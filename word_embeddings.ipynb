{
 "cells": [
  {
   "cell_type": "code",
   "execution_count": 1,
   "metadata": {},
   "outputs": [],
   "source": [
    "import numpy as np\n",
    "from tensorflow.keras.preprocessing.text import one_hot\n",
    "from tensorflow.keras.preprocessing.sequence import pad_sequences\n",
    "from tensorflow.keras.models import Sequential\n",
    "from tensorflow.keras.layers import Dense\n",
    "from tensorflow.keras.layers import Flatten\n",
    "from tensorflow.keras.layers import Embedding"
   ]
  },
  {
   "cell_type": "code",
   "execution_count": 2,
   "metadata": {},
   "outputs": [],
   "source": [
    "reviews = ['nice food',\n",
    "        'amazing restaurant',\n",
    "        'too good',\n",
    "        'just loved it!',\n",
    "        'will go again',\n",
    "        'horrible food',\n",
    "        'never go there',\n",
    "        'poor service',\n",
    "        'poor quality',\n",
    "        'needs improvement']\n",
    "\n",
    "sentiment = np.array([1,1,1,1,1,0,0,0,0,0])"
   ]
  },
  {
   "cell_type": "code",
   "execution_count": 3,
   "metadata": {},
   "outputs": [
    {
     "data": {
      "text/plain": [
       "[24, 4]"
      ]
     },
     "execution_count": 3,
     "metadata": {},
     "output_type": "execute_result"
    }
   ],
   "source": [
    "one_hot(\"too good\", 30)"
   ]
  },
  {
   "cell_type": "code",
   "execution_count": 5,
   "metadata": {},
   "outputs": [
    {
     "data": {
      "text/plain": [
       "[[10, 5],\n",
       " [10, 22],\n",
       " [24, 4],\n",
       " [16, 2, 2],\n",
       " [18, 16, 15],\n",
       " [3, 5],\n",
       " [27, 16, 6],\n",
       " [27, 16],\n",
       " [27, 21],\n",
       " [5, 6]]"
      ]
     },
     "execution_count": 5,
     "metadata": {},
     "output_type": "execute_result"
    }
   ],
   "source": [
    "vocab_size = 30\n",
    "encoded_reviews = [one_hot(d, vocab_size) for d in reviews]\n",
    "encoded_reviews"
   ]
  },
  {
   "cell_type": "code",
   "execution_count": 6,
   "metadata": {},
   "outputs": [
    {
     "data": {
      "text/plain": [
       "array([[10,  5,  0,  0],\n",
       "       [10, 22,  0,  0],\n",
       "       [24,  4,  0,  0],\n",
       "       [16,  2,  2,  0],\n",
       "       [18, 16, 15,  0],\n",
       "       [ 3,  5,  0,  0],\n",
       "       [27, 16,  6,  0],\n",
       "       [27, 16,  0,  0],\n",
       "       [27, 21,  0,  0],\n",
       "       [ 5,  6,  0,  0]])"
      ]
     },
     "execution_count": 6,
     "metadata": {},
     "output_type": "execute_result"
    }
   ],
   "source": [
    "max_length = 4\n",
    "padded_reviews = pad_sequences(encoded_reviews, maxlen=max_length, padding='post')\n",
    "padded_reviews"
   ]
  },
  {
   "cell_type": "code",
   "execution_count": 10,
   "metadata": {},
   "outputs": [],
   "source": [
    "embedded_vector_size = 4\n",
    "\n",
    "model = Sequential()\n",
    "model.add(Embedding(vocab_size, embedded_vector_size, input_length=max_length, name=\"embedding\"))\n",
    "model.add(Flatten())\n",
    "model.add(Dense(1, activation='sigmoid'))"
   ]
  },
  {
   "cell_type": "code",
   "execution_count": 11,
   "metadata": {},
   "outputs": [],
   "source": [
    "X = padded_reviews\n",
    "y = sentiment"
   ]
  },
  {
   "cell_type": "code",
   "execution_count": 13,
   "metadata": {},
   "outputs": [
    {
     "name": "stdout",
     "output_type": "stream",
     "text": [
      "Model: \"sequential_1\"\n",
      "_________________________________________________________________\n",
      " Layer (type)                Output Shape              Param #   \n",
      "=================================================================\n",
      " embedding (Embedding)       (None, 4, 4)              120       \n",
      "                                                                 \n",
      " flatten_1 (Flatten)         (None, 16)                0         \n",
      "                                                                 \n",
      " dense_1 (Dense)             (None, 1)                 17        \n",
      "                                                                 \n",
      "=================================================================\n",
      "Total params: 137\n",
      "Trainable params: 137\n",
      "Non-trainable params: 0\n",
      "_________________________________________________________________\n",
      "None\n"
     ]
    }
   ],
   "source": [
    "model.compile(optimizer='adam', loss='binary_crossentropy', metrics=['accuracy'])\n",
    "print(model.summary())"
   ]
  },
  {
   "cell_type": "code",
   "execution_count": 14,
   "metadata": {},
   "outputs": [
    {
     "data": {
      "text/plain": [
       "<keras.callbacks.History at 0x11624297310>"
      ]
     },
     "execution_count": 14,
     "metadata": {},
     "output_type": "execute_result"
    }
   ],
   "source": [
    "model.fit(X, y, epochs=50, verbose=0)"
   ]
  },
  {
   "cell_type": "code",
   "execution_count": 15,
   "metadata": {},
   "outputs": [
    {
     "name": "stdout",
     "output_type": "stream",
     "text": [
      "1/1 [==============================] - 0s 139ms/step - loss: 0.6241 - accuracy: 1.0000\n"
     ]
    },
    {
     "data": {
      "text/plain": [
       "1.0"
      ]
     },
     "execution_count": 15,
     "metadata": {},
     "output_type": "execute_result"
    }
   ],
   "source": [
    "loss, accuracy = model.evaluate(X, y)\n",
    "accuracy"
   ]
  },
  {
   "cell_type": "code",
   "execution_count": 16,
   "metadata": {},
   "outputs": [
    {
     "data": {
      "text/plain": [
       "array([[ 0.09535294,  0.01066562,  0.03839961, -0.08436829],\n",
       "       [ 0.00447823, -0.02848549,  0.01994853, -0.00275133],\n",
       "       [ 0.07786825, -0.06454674,  0.0742488 ,  0.04542086],\n",
       "       [-0.04681312, -0.00769882, -0.07283767,  0.0286001 ],\n",
       "       [ 0.03414384, -0.07313468,  0.00897294,  0.05861882],\n",
       "       [-0.06906621, -0.02609274, -0.06534503,  0.04811746],\n",
       "       [ 0.00294712,  0.06388884, -0.00894985, -0.07303545],\n",
       "       [ 0.04264757, -0.00674229,  0.02338696,  0.01785721],\n",
       "       [ 0.02733482,  0.01525154, -0.03562018,  0.02133377],\n",
       "       [ 0.03147023,  0.03386922,  0.04337678,  0.02846028],\n",
       "       [ 0.0107239 ,  0.0699845 ,  0.01699717, -0.0594316 ],\n",
       "       [-0.0399818 ,  0.00536034, -0.03482826,  0.01611178],\n",
       "       [-0.00447321, -0.04030913, -0.01636398, -0.0299744 ],\n",
       "       [-0.04285008,  0.03432531, -0.00584088,  0.02125948],\n",
       "       [ 0.04629261,  0.04035783, -0.02754606, -0.04650721],\n",
       "       [-0.01623221, -0.01991068, -0.07542687,  0.04352312],\n",
       "       [ 0.05767009,  0.01715675, -0.07846449, -0.08274066],\n",
       "       [ 0.04696992, -0.01374348, -0.03780551,  0.02763398],\n",
       "       [ 0.0918509 ,  0.05883395,  0.04284716, -0.09505444],\n",
       "       [ 0.01861485, -0.03925098,  0.03222655,  0.04294909],\n",
       "       [-0.01946844,  0.04533713, -0.00910816,  0.04381407],\n",
       "       [-0.04999678,  0.02042573, -0.03735707, -0.03672417],\n",
       "       [ 0.0198872 , -0.08891524,  0.03238418,  0.05798065],\n",
       "       [ 0.01314246,  0.04418537,  0.00541129, -0.0296803 ],\n",
       "       [ 0.07257746,  0.03299071,  0.03384446, -0.0601875 ],\n",
       "       [ 0.04584067, -0.03485479,  0.04510594, -0.02825583],\n",
       "       [ 0.03526994,  0.015834  ,  0.00755929, -0.01599858],\n",
       "       [-0.09013567, -0.047479  , -0.04318575,  0.02711081],\n",
       "       [-0.00817789, -0.0321209 ,  0.00238685, -0.00453351],\n",
       "       [-0.00994934, -0.01407598,  0.02164302, -0.04906197]],\n",
       "      dtype=float32)"
      ]
     },
     "execution_count": 16,
     "metadata": {},
     "output_type": "execute_result"
    }
   ],
   "source": [
    "model.get_layer('embedding').get_weights()[0]"
   ]
  },
  {
   "cell_type": "code",
   "execution_count": 17,
   "metadata": {},
   "outputs": [
    {
     "data": {
      "text/plain": [
       "30"
      ]
     },
     "execution_count": 17,
     "metadata": {},
     "output_type": "execute_result"
    }
   ],
   "source": [
    "weights = model.get_layer('embedding').get_weights()[0]\n",
    "len(weights)"
   ]
  },
  {
   "cell_type": "code",
   "execution_count": 19,
   "metadata": {},
   "outputs": [
    {
     "data": {
      "text/plain": [
       "array([ 0.0107239 ,  0.0699845 ,  0.01699717, -0.0594316 ], dtype=float32)"
      ]
     },
     "execution_count": 19,
     "metadata": {},
     "output_type": "execute_result"
    }
   ],
   "source": [
    "weights[10]"
   ]
  },
  {
   "cell_type": "code",
   "execution_count": 20,
   "metadata": {},
   "outputs": [
    {
     "data": {
      "text/plain": [
       "array([-0.06906621, -0.02609274, -0.06534503,  0.04811746], dtype=float32)"
      ]
     },
     "execution_count": 20,
     "metadata": {},
     "output_type": "execute_result"
    }
   ],
   "source": [
    "weights[5]"
   ]
  }
 ],
 "metadata": {
  "kernelspec": {
   "display_name": "Python 3",
   "language": "python",
   "name": "python3"
  },
  "language_info": {
   "codemirror_mode": {
    "name": "ipython",
    "version": 3
   },
   "file_extension": ".py",
   "mimetype": "text/x-python",
   "name": "python",
   "nbconvert_exporter": "python",
   "pygments_lexer": "ipython3",
   "version": "3.11.2"
  }
 },
 "nbformat": 4,
 "nbformat_minor": 2
}
